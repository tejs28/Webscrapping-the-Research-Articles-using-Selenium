{
 "cells": [
  {
   "cell_type": "markdown",
   "id": "685b56d5",
   "metadata": {},
   "source": [
    "# Installing and import libraries"
   ]
  },
  {
   "cell_type": "code",
   "execution_count": 7,
   "id": "6125a830",
   "metadata": {},
   "outputs": [
    {
     "name": "stdout",
     "output_type": "stream",
     "text": [
      "Requirement already satisfied: selenium in c:\\users\\tejs2\\anaconda3\\lib\\site-packages (4.1.3)\n",
      "Requirement already satisfied: trio~=0.17 in c:\\users\\tejs2\\anaconda3\\lib\\site-packages (from selenium) (0.20.0)\n",
      "Requirement already satisfied: urllib3[secure,socks]~=1.26 in c:\\users\\tejs2\\anaconda3\\lib\\site-packages (from selenium) (1.26.7)\n",
      "Requirement already satisfied: trio-websocket~=0.9 in c:\\users\\tejs2\\anaconda3\\lib\\site-packages (from selenium) (0.9.2)\n",
      "Requirement already satisfied: async-generator>=1.9 in c:\\users\\tejs2\\anaconda3\\lib\\site-packages (from trio~=0.17->selenium) (1.10)\n",
      "Requirement already satisfied: idna in c:\\users\\tejs2\\anaconda3\\lib\\site-packages (from trio~=0.17->selenium) (3.2)\n",
      "Requirement already satisfied: attrs>=19.2.0 in c:\\users\\tejs2\\anaconda3\\lib\\site-packages (from trio~=0.17->selenium) (21.2.0)\n",
      "Requirement already satisfied: sortedcontainers in c:\\users\\tejs2\\anaconda3\\lib\\site-packages (from trio~=0.17->selenium) (2.4.0)\n",
      "Requirement already satisfied: sniffio in c:\\users\\tejs2\\anaconda3\\lib\\site-packages (from trio~=0.17->selenium) (1.2.0)\n",
      "Requirement already satisfied: cffi>=1.14 in c:\\users\\tejs2\\anaconda3\\lib\\site-packages (from trio~=0.17->selenium) (1.14.6)\n",
      "Requirement already satisfied: outcome in c:\\users\\tejs2\\anaconda3\\lib\\site-packages (from trio~=0.17->selenium) (1.1.0)\n",
      "Requirement already satisfied: pycparser in c:\\users\\tejs2\\anaconda3\\lib\\site-packages (from cffi>=1.14->trio~=0.17->selenium) (2.20)\n",
      "Requirement already satisfied: wsproto>=0.14 in c:\\users\\tejs2\\anaconda3\\lib\\site-packages (from trio-websocket~=0.9->selenium) (1.1.0)\n",
      "Requirement already satisfied: PySocks!=1.5.7,<2.0,>=1.5.6 in c:\\users\\tejs2\\anaconda3\\lib\\site-packages (from urllib3[secure,socks]~=1.26->selenium) (1.7.1)\n",
      "Requirement already satisfied: pyOpenSSL>=0.14 in c:\\users\\tejs2\\anaconda3\\lib\\site-packages (from urllib3[secure,socks]~=1.26->selenium) (21.0.0)\n",
      "Requirement already satisfied: cryptography>=1.3.4 in c:\\users\\tejs2\\anaconda3\\lib\\site-packages (from urllib3[secure,socks]~=1.26->selenium) (3.4.8)\n",
      "Requirement already satisfied: certifi in c:\\users\\tejs2\\anaconda3\\lib\\site-packages (from urllib3[secure,socks]~=1.26->selenium) (2021.10.8)\n",
      "Requirement already satisfied: six>=1.5.2 in c:\\users\\tejs2\\anaconda3\\lib\\site-packages (from pyOpenSSL>=0.14->urllib3[secure,socks]~=1.26->selenium) (1.16.0)\n",
      "Requirement already satisfied: h11<1,>=0.9.0 in c:\\users\\tejs2\\anaconda3\\lib\\site-packages (from wsproto>=0.14->trio-websocket~=0.9->selenium) (0.13.0)\n",
      "Note: you may need to restart the kernel to use updated packages.\n"
     ]
    }
   ],
   "source": [
    "pip install selenium\n"
   ]
  },
  {
   "cell_type": "code",
   "execution_count": 8,
   "id": "8879c688",
   "metadata": {},
   "outputs": [],
   "source": [
    "import selenium\n",
    "from selenium import webdriver\n",
    "from selenium.webdriver.support.ui import Select\n",
    "from selenium.webdriver.common.keys import Keys\n",
    "import pandas as pd"
   ]
  },
  {
   "cell_type": "markdown",
   "id": "1e27285a",
   "metadata": {},
   "source": [
    "# Giving the Path for webdriver in chrome"
   ]
  },
  {
   "cell_type": "code",
   "execution_count": 9,
   "id": "dfd4f386",
   "metadata": {},
   "outputs": [
    {
     "name": "stderr",
     "output_type": "stream",
     "text": [
      "C:\\Users\\tejs2\\AppData\\Local\\Temp/ipykernel_6404/1538107586.py:2: DeprecationWarning: executable_path has been deprecated, please pass in a Service object\n",
      "  driver = webdriver.Chrome(Path)\n"
     ]
    }
   ],
   "source": [
    "Path = \"C:\\Program Files\\chromedriver.exe\"\n",
    "driver = webdriver.Chrome(Path)"
   ]
  },
  {
   "cell_type": "markdown",
   "id": "a92fc739",
   "metadata": {},
   "source": [
    "# Giving the URL to Webdriver"
   ]
  },
  {
   "cell_type": "code",
   "execution_count": 10,
   "id": "fd8ab1bc",
   "metadata": {},
   "outputs": [],
   "source": [
    "driver.get(\"https://www.giiresearch.com/material_report.shtml\")"
   ]
  },
  {
   "cell_type": "markdown",
   "id": "ab5fc511",
   "metadata": {},
   "source": [
    "# Extracting the Title of webpage"
   ]
  },
  {
   "cell_type": "code",
   "execution_count": 11,
   "id": "fa80dc2a",
   "metadata": {},
   "outputs": [
    {
     "name": "stdout",
     "output_type": "stream",
     "text": [
      "Advanced Material Market Research Reports - Global Information, Inc. (GII)\n"
     ]
    }
   ],
   "source": [
    "print(driver.title)"
   ]
  },
  {
   "cell_type": "markdown",
   "id": "c6b50cdf",
   "metadata": {},
   "source": [
    "# Displaying the 100 Elements of page"
   ]
  },
  {
   "cell_type": "code",
   "execution_count": 12,
   "id": "8a5092ca",
   "metadata": {},
   "outputs": [
    {
     "name": "stderr",
     "output_type": "stream",
     "text": [
      "C:\\Users\\tejs2\\AppData\\Local\\Temp/ipykernel_6404/2941933074.py:1: DeprecationWarning: find_element_by_name is deprecated. Please use find_element(by=By.NAME, value=name) instead\n",
      "  display=driver.find_element_by_name(\"LL\")\n"
     ]
    }
   ],
   "source": [
    "display=driver.find_element_by_name(\"LL\")\n",
    "drp=Select(display)\n",
    "drp.select_by_index(2)"
   ]
  },
  {
   "cell_type": "markdown",
   "id": "c0fdd232",
   "metadata": {},
   "source": [
    "# Webscrapping the Title of Research Pages"
   ]
  },
  {
   "cell_type": "code",
   "execution_count": 13,
   "id": "c6cd057e",
   "metadata": {},
   "outputs": [
    {
     "name": "stderr",
     "output_type": "stream",
     "text": [
      "C:\\Users\\tejs2\\AppData\\Local\\Temp/ipykernel_6404/3703800972.py:1: DeprecationWarning: find_elements_by_xpath is deprecated. Please use find_elements(by=By.XPATH, value=xpath) instead\n",
      "  Title = driver.find_elements_by_xpath('//div[@class=\"list_title\"]')\n"
     ]
    }
   ],
   "source": [
    "Title = driver.find_elements_by_xpath('//div[@class=\"list_title\"]')"
   ]
  },
  {
   "cell_type": "markdown",
   "id": "c5f96496",
   "metadata": {},
   "source": [
    "# Webscrapping the Publisher Details "
   ]
  },
  {
   "cell_type": "code",
   "execution_count": 14,
   "id": "3d5a4026",
   "metadata": {},
   "outputs": [
    {
     "name": "stderr",
     "output_type": "stream",
     "text": [
      "C:\\Users\\tejs2\\AppData\\Local\\Temp/ipykernel_6404/4006031010.py:1: DeprecationWarning: find_elements_by_xpath is deprecated. Please use find_elements(by=By.XPATH, value=xpath) instead\n",
      "  Publisher= driver.find_elements_by_xpath('//div[@class=\"plist_pubinfo\"]//div[@class=\"plist_info_dd2\"]')\n"
     ]
    }
   ],
   "source": [
    "Publisher= driver.find_elements_by_xpath('//div[@class=\"plist_pubinfo\"]//div[@class=\"plist_info_dd2\"]')"
   ]
  },
  {
   "cell_type": "markdown",
   "id": "b1a92c04",
   "metadata": {},
   "source": [
    "# Webscrapping the Product Code"
   ]
  },
  {
   "cell_type": "code",
   "execution_count": 15,
   "id": "a81dfb36",
   "metadata": {},
   "outputs": [
    {
     "name": "stderr",
     "output_type": "stream",
     "text": [
      "C:\\Users\\tejs2\\AppData\\Local\\Temp/ipykernel_6404/1538971310.py:1: DeprecationWarning: find_elements_by_xpath is deprecated. Please use find_elements(by=By.XPATH, value=xpath) instead\n",
      "  productcode= driver.find_elements_by_xpath('//div[@class=\"plist_codeinfo\"]//div[@class=\"plist_info_dd2\"]')\n"
     ]
    }
   ],
   "source": [
    "productcode= driver.find_elements_by_xpath('//div[@class=\"plist_codeinfo\"]//div[@class=\"plist_info_dd2\"]')"
   ]
  },
  {
   "cell_type": "markdown",
   "id": "1b012860",
   "metadata": {},
   "source": [
    "# Webscrapping the Date of Publishing "
   ]
  },
  {
   "cell_type": "code",
   "execution_count": 16,
   "id": "ebadba3c",
   "metadata": {},
   "outputs": [
    {
     "name": "stderr",
     "output_type": "stream",
     "text": [
      "C:\\Users\\tejs2\\AppData\\Local\\Temp/ipykernel_6404/1369231709.py:1: DeprecationWarning: find_elements_by_xpath is deprecated. Please use find_elements(by=By.XPATH, value=xpath) instead\n",
      "  dateinfo= driver.find_elements_by_xpath('//div[@class=\"plist_dateinfo\"]//div[@class=\"plist_info_dd2\"]')\n"
     ]
    }
   ],
   "source": [
    "dateinfo= driver.find_elements_by_xpath('//div[@class=\"plist_dateinfo\"]//div[@class=\"plist_info_dd2\"]')"
   ]
  },
  {
   "cell_type": "markdown",
   "id": "76d59fc6",
   "metadata": {},
   "source": [
    "# Webscrapping the Number of Pages"
   ]
  },
  {
   "cell_type": "code",
   "execution_count": 17,
   "id": "d12e1fd1",
   "metadata": {},
   "outputs": [
    {
     "name": "stderr",
     "output_type": "stream",
     "text": [
      "C:\\Users\\tejs2\\AppData\\Local\\Temp/ipykernel_6404/2887187723.py:1: DeprecationWarning: find_elements_by_xpath is deprecated. Please use find_elements(by=By.XPATH, value=xpath) instead\n",
      "  pageinfo= driver.find_elements_by_xpath('//div[@class=\"plist_pageinfo\"]//div[@class=\"plist_info_dd2\"]')\n"
     ]
    }
   ],
   "source": [
    "pageinfo= driver.find_elements_by_xpath('//div[@class=\"plist_pageinfo\"]//div[@class=\"plist_info_dd2\"]')"
   ]
  },
  {
   "cell_type": "markdown",
   "id": "844c0c39",
   "metadata": {},
   "source": [
    "# Webscrapping the Price of Research pages"
   ]
  },
  {
   "cell_type": "code",
   "execution_count": 18,
   "id": "4c955750",
   "metadata": {},
   "outputs": [
    {
     "name": "stderr",
     "output_type": "stream",
     "text": [
      "C:\\Users\\tejs2\\AppData\\Local\\Temp/ipykernel_6404/2893043165.py:1: DeprecationWarning: find_elements_by_xpath is deprecated. Please use find_elements(by=By.XPATH, value=xpath) instead\n",
      "  priceinfo= driver.find_elements_by_xpath('//span[@class=\"price_usd\"]')\n"
     ]
    }
   ],
   "source": [
    "priceinfo= driver.find_elements_by_xpath('//span[@class=\"price_usd\"]')"
   ]
  },
  {
   "cell_type": "markdown",
   "id": "bac27624",
   "metadata": {},
   "source": [
    "# Making the Data Set of Webscrapping"
   ]
  },
  {
   "cell_type": "code",
   "execution_count": 19,
   "id": "1dc8d810",
   "metadata": {},
   "outputs": [
    {
     "data": {
      "text/html": [
       "<div>\n",
       "<style scoped>\n",
       "    .dataframe tbody tr th:only-of-type {\n",
       "        vertical-align: middle;\n",
       "    }\n",
       "\n",
       "    .dataframe tbody tr th {\n",
       "        vertical-align: top;\n",
       "    }\n",
       "\n",
       "    .dataframe thead th {\n",
       "        text-align: right;\n",
       "    }\n",
       "</style>\n",
       "<table border=\"1\" class=\"dataframe\">\n",
       "  <thead>\n",
       "    <tr style=\"text-align: right;\">\n",
       "      <th></th>\n",
       "      <th>Title</th>\n",
       "      <th>Publisher</th>\n",
       "      <th>Product Code</th>\n",
       "      <th>Published on</th>\n",
       "      <th>Content info</th>\n",
       "      <th>Price</th>\n",
       "    </tr>\n",
       "  </thead>\n",
       "  <tbody>\n",
       "    <tr>\n",
       "      <th>0</th>\n",
       "      <td>Global Non Grain-oriented Electrical Steel Mar...</td>\n",
       "      <td>QYResearch</td>\n",
       "      <td>1071366</td>\n",
       "      <td>April 23, 2022</td>\n",
       "      <td>142 Pages</td>\n",
       "      <td>USD 4900</td>\n",
       "    </tr>\n",
       "    <tr>\n",
       "      <th>1</th>\n",
       "      <td>Global Maleic Anhydride (CAS 108-31-6) Market ...</td>\n",
       "      <td>QYResearch</td>\n",
       "      <td>1071365</td>\n",
       "      <td>April 23, 2022</td>\n",
       "      <td>167 Pages</td>\n",
       "      <td>USD 2900</td>\n",
       "    </tr>\n",
       "    <tr>\n",
       "      <th>2</th>\n",
       "      <td>Global Cristobalite Sand Market Research Repor...</td>\n",
       "      <td>QYResearch</td>\n",
       "      <td>1071364</td>\n",
       "      <td>April 23, 2022</td>\n",
       "      <td>105 Pages</td>\n",
       "      <td>USD 2900</td>\n",
       "    </tr>\n",
       "    <tr>\n",
       "      <th>3</th>\n",
       "      <td>Global and China Ultra High Purity Colloidal S...</td>\n",
       "      <td>QYResearch</td>\n",
       "      <td>1071363</td>\n",
       "      <td>April 23, 2022</td>\n",
       "      <td>131 Pages</td>\n",
       "      <td>USD 4350</td>\n",
       "    </tr>\n",
       "    <tr>\n",
       "      <th>4</th>\n",
       "      <td>Microspheres: Technologies and Global Markets</td>\n",
       "      <td>BCC Research</td>\n",
       "      <td>1071522</td>\n",
       "      <td>April 21, 2022</td>\n",
       "      <td>251 Pages</td>\n",
       "      <td>USD 5500</td>\n",
       "    </tr>\n",
       "    <tr>\n",
       "      <th>...</th>\n",
       "      <td>...</td>\n",
       "      <td>...</td>\n",
       "      <td>...</td>\n",
       "      <td>...</td>\n",
       "      <td>...</td>\n",
       "      <td>...</td>\n",
       "    </tr>\n",
       "    <tr>\n",
       "      <th>95</th>\n",
       "      <td>Palm Oil Market: Global Industry Trends, Share...</td>\n",
       "      <td>IMARC Services Private Limited</td>\n",
       "      <td>1070913</td>\n",
       "      <td>April 14, 2022</td>\n",
       "      <td>108 Pages</td>\n",
       "      <td>USD 2499</td>\n",
       "    </tr>\n",
       "    <tr>\n",
       "      <th>96</th>\n",
       "      <td>Industrial Alcohols Market: Global Industry Tr...</td>\n",
       "      <td>IMARC Services Private Limited</td>\n",
       "      <td>1070907</td>\n",
       "      <td>April 14, 2022</td>\n",
       "      <td>110 Pages</td>\n",
       "      <td>USD 2499</td>\n",
       "    </tr>\n",
       "    <tr>\n",
       "      <th>97</th>\n",
       "      <td>FMCG Packaging Market: Global Industry Trends,...</td>\n",
       "      <td>IMARC Services Private Limited</td>\n",
       "      <td>1070902</td>\n",
       "      <td>April 14, 2022</td>\n",
       "      <td>101 Pages</td>\n",
       "      <td>USD 2499</td>\n",
       "    </tr>\n",
       "    <tr>\n",
       "      <th>98</th>\n",
       "      <td>Cannabis Packaging Market: Global Industry Tre...</td>\n",
       "      <td>IMARC Services Private Limited</td>\n",
       "      <td>1070898</td>\n",
       "      <td>April 14, 2022</td>\n",
       "      <td>145 Pages</td>\n",
       "      <td>USD 2499</td>\n",
       "    </tr>\n",
       "    <tr>\n",
       "      <th>99</th>\n",
       "      <td>Re-Refined Base Oil Market - Global Outlook &amp; ...</td>\n",
       "      <td>Arizton Advisory &amp; Intelligence</td>\n",
       "      <td>1069856</td>\n",
       "      <td>April 14, 2022</td>\n",
       "      <td>294 Pages</td>\n",
       "      <td>USD 3750</td>\n",
       "    </tr>\n",
       "  </tbody>\n",
       "</table>\n",
       "<p>100 rows × 6 columns</p>\n",
       "</div>"
      ],
      "text/plain": [
       "                                                Title  \\\n",
       "0   Global Non Grain-oriented Electrical Steel Mar...   \n",
       "1   Global Maleic Anhydride (CAS 108-31-6) Market ...   \n",
       "2   Global Cristobalite Sand Market Research Repor...   \n",
       "3   Global and China Ultra High Purity Colloidal S...   \n",
       "4       Microspheres: Technologies and Global Markets   \n",
       "..                                                ...   \n",
       "95  Palm Oil Market: Global Industry Trends, Share...   \n",
       "96  Industrial Alcohols Market: Global Industry Tr...   \n",
       "97  FMCG Packaging Market: Global Industry Trends,...   \n",
       "98  Cannabis Packaging Market: Global Industry Tre...   \n",
       "99  Re-Refined Base Oil Market - Global Outlook & ...   \n",
       "\n",
       "                          Publisher Product Code    Published on Content info  \\\n",
       "0                        QYResearch      1071366  April 23, 2022    142 Pages   \n",
       "1                        QYResearch      1071365  April 23, 2022    167 Pages   \n",
       "2                        QYResearch      1071364  April 23, 2022    105 Pages   \n",
       "3                        QYResearch      1071363  April 23, 2022    131 Pages   \n",
       "4                      BCC Research      1071522  April 21, 2022    251 Pages   \n",
       "..                              ...          ...             ...          ...   \n",
       "95   IMARC Services Private Limited      1070913  April 14, 2022    108 Pages   \n",
       "96   IMARC Services Private Limited      1070907  April 14, 2022    110 Pages   \n",
       "97   IMARC Services Private Limited      1070902  April 14, 2022    101 Pages   \n",
       "98   IMARC Services Private Limited      1070898  April 14, 2022    145 Pages   \n",
       "99  Arizton Advisory & Intelligence      1069856  April 14, 2022    294 Pages   \n",
       "\n",
       "       Price  \n",
       "0   USD 4900  \n",
       "1   USD 2900  \n",
       "2   USD 2900  \n",
       "3   USD 4350  \n",
       "4   USD 5500  \n",
       "..       ...  \n",
       "95  USD 2499  \n",
       "96  USD 2499  \n",
       "97  USD 2499  \n",
       "98  USD 2499  \n",
       "99  USD 3750  \n",
       "\n",
       "[100 rows x 6 columns]"
      ]
     },
     "execution_count": 19,
     "metadata": {},
     "output_type": "execute_result"
    }
   ],
   "source": [
    "df_reports=pd.DataFrame(columns=['Title','Publisher','Product Code','Published on','Content info','Price'])\n",
    "for n in range(len(Title)):\n",
    "    df_reports = df_reports.append({'Title':Title[n].text, 'Publisher':Publisher[n].text, 'Product Code':productcode[n].text, 'Published on':dateinfo[n].text, 'Content info':pageinfo[n].text, 'Price':priceinfo[n].text},\n",
    "            ignore_index = True)\n",
    "df_reports"
   ]
  },
  {
   "cell_type": "markdown",
   "id": "a5ed2820",
   "metadata": {},
   "source": [
    "# Importing the Data Set into CSV file"
   ]
  },
  {
   "cell_type": "code",
   "execution_count": 20,
   "id": "b5381611",
   "metadata": {},
   "outputs": [],
   "source": [
    "df_reports.to_csv('ResearchArticles.csv', sep=',', encoding = 'utf-8-sig', index=False)"
   ]
  },
  {
   "cell_type": "code",
   "execution_count": null,
   "id": "16957a80",
   "metadata": {},
   "outputs": [],
   "source": []
  }
 ],
 "metadata": {
  "kernelspec": {
   "display_name": "Python 3 (ipykernel)",
   "language": "python",
   "name": "python3"
  },
  "language_info": {
   "codemirror_mode": {
    "name": "ipython",
    "version": 3
   },
   "file_extension": ".py",
   "mimetype": "text/x-python",
   "name": "python",
   "nbconvert_exporter": "python",
   "pygments_lexer": "ipython3",
   "version": "3.9.7"
  }
 },
 "nbformat": 4,
 "nbformat_minor": 5
}
